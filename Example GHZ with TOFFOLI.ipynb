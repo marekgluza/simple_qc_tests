{
 "cells": [
  {
   "cell_type": "code",
   "execution_count": 1,
   "id": "b80b4738",
   "metadata": {},
   "outputs": [
    {
     "name": "stderr",
     "output_type": "stream",
     "text": [
      "/home/marek/.local/lib/python3.12/site-packages/matplotlib/projections/__init__.py:63: UserWarning: Unable to import Axes3D. This may be due to multiple versions of Matplotlib being installed (e.g. as a system package and as a pip package). As a result, the 3D projection is not available.\n",
      "  warnings.warn(\"Unable to import Axes3D. This may be due to multiple versions of \"\n",
      "[Qibo 0.2.19|INFO|2025-06-19 21:25:42]: Using numpy backend on /CPU:0\n"
     ]
    }
   ],
   "source": [
    "from copy import deepcopy\n",
    "import numpy as np\n",
    "import matplotlib.pyplot as plt\n",
    "from hyperopt import hp, tpe\n",
    "from scipy.linalg import expm\n",
    "from qibo import hamiltonians, set_backend, Circuit\n",
    "from qibo.symbols import *\n",
    "\n",
    "import qibo\n",
    "from qibo.transpiler.unitary_decompositions import two_qubit_decomposition\n",
    "qibo.set_backend(\"numpy\")\n",
    "backend = qibo.backends.NumpyBackend()\n",
    "np.set_printoptions(precision=3, suppress=True)"
   ]
  },
  {
   "cell_type": "code",
   "execution_count": 2,
   "id": "1a2760cb",
   "metadata": {},
   "outputs": [
    {
     "name": "stdout",
     "output_type": "stream",
     "text": [
      "API token loaded from 'nqch_API_token.pickle'.\n"
     ]
    }
   ],
   "source": [
    "import qibo\n",
    "import qibo_client\n",
    "import utils_tokens\n",
    "\n",
    "\n",
    "# authenticate to server through the client instance\n",
    "client = qibo_client.Client(utils_tokens.load_api_token())\n",
    "\n",
    "# run the circuit\n",
    "device = \"sinq20\"\n",
    "project = \"personal\""
   ]
  },
  {
   "cell_type": "code",
   "execution_count": 3,
   "id": "98f4fe3d",
   "metadata": {},
   "outputs": [],
   "source": [
    "from TOFFOLI_NN_decomposition import TOFFOLI_circuit_NN"
   ]
  },
  {
   "cell_type": "code",
   "execution_count": 15,
   "id": "266f7673",
   "metadata": {},
   "outputs": [
    {
     "data": {
      "text/plain": [
       "MeasurementResult(qubits=(0, 1, 2), nshots=None)"
      ]
     },
     "execution_count": 15,
     "metadata": {},
     "output_type": "execute_result"
    }
   ],
   "source": [
    "circuit = Circuit(3)\n",
    "#Currently the CZs are calibrated for 3-8, 8-13 and 13-17\n",
    "q0 = 0\n",
    "q1 = 1\n",
    "q2 = 2\n",
    "circuit.add(gates.RX(q0,theta=np.pi/2))\n",
    "TOFFOLI_circuit_NN(circuit, q0,q1,q2)\n",
    "circuit.add(gates.CRX(q0,q1,np.pi/2))\n",
    "TOFFOLI_circuit_NN(circuit, q0,q1,q2)\n",
    "circuit.add(gates.M(q0, q1,q2))"
   ]
  },
  {
   "cell_type": "code",
   "execution_count": 16,
   "id": "c3536afe",
   "metadata": {},
   "outputs": [
    {
     "name": "stdout",
     "output_type": "stream",
     "text": [
      "Measurement outcomes after 1000 shots:\n",
      "Frequencies (counts per bitstring): Counter({'000': 482, '100': 265, '111': 253})\n"
     ]
    }
   ],
   "source": [
    "# Define the number of measurement shots\n",
    "nshots = 1000\n",
    "\n",
    "# Execute the circuit with the specified number of shots\n",
    "result = circuit.execute(nshots=nshots)\n",
    "\n",
    "# Get the measurement frequencies (counts for each bitstring)\n",
    "# The keys will be bitstrings (e.g., '000', '001'), and values will be their counts\n",
    "frequencies = result.frequencies()\n",
    "\n",
    "# Print the frequencies\n",
    "print(f\"Measurement outcomes after {nshots} shots:\")\n",
    "print(\"Frequencies (counts per bitstring):\", frequencies)\n",
    "\n"
   ]
  },
  {
   "cell_type": "code",
   "execution_count": 6,
   "id": "4e24dc21",
   "metadata": {},
   "outputs": [
    {
     "name": "stderr",
     "output_type": "stream",
     "text": [
      "[2025-06-19 21:23:01,428] INFO: Post new circuit on the server\n",
      "[2025-06-19 21:23:02,489] INFO: Job posted on server with pid 6fbf280dd9ac4e1b957cca6bd3c4c747\n",
      "[2025-06-19 21:23:03,305] INFO: Please wait until your job is completed...\n"
     ]
    },
    {
     "name": "stdout",
     "output_type": "stream",
     "text": [
      "<qibo.result.MeasurementOutcomes object at 0x757aa23702c0>\n"
     ]
    },
    {
     "data": {
      "text/plain": [
       "Counter({'101': 5, '001': 1, '011': 1, '100': 1, '110': 1, '111': 1})"
      ]
     },
     "execution_count": 6,
     "metadata": {},
     "output_type": "execute_result"
    }
   ],
   "source": [
    "job = client.run_circuit(circuit, device=device, project=project, nshots=10)\n",
    "result = job.result()\n",
    "print(result)\n",
    "result.frequencies()"
   ]
  },
  {
   "cell_type": "code",
   "execution_count": 18,
   "id": "f07dcaa3",
   "metadata": {},
   "outputs": [
    {
     "name": "stderr",
     "output_type": "stream",
     "text": [
      "[2025-06-19 21:28:38,344] INFO: Post new circuit on the server\n",
      "[2025-06-19 21:28:39,374] INFO: Job posted on server with pid c2aad3d8c79046f997b22f2d43e272e7\n",
      "[2025-06-19 21:28:40,093] INFO: Please wait until your job is completed...\n"
     ]
    },
    {
     "name": "stdout",
     "output_type": "stream",
     "text": [
      "<qibo.result.MeasurementOutcomes object at 0x74c3873cbdd0>\n"
     ]
    },
    {
     "data": {
      "text/plain": [
       "Counter({'100': 162,\n",
       "         '110': 160,\n",
       "         '111': 139,\n",
       "         '101': 126,\n",
       "         '000': 115,\n",
       "         '010': 108,\n",
       "         '011': 97,\n",
       "         '001': 93})"
      ]
     },
     "execution_count": 18,
     "metadata": {},
     "output_type": "execute_result"
    }
   ],
   "source": [
    "circuit = Circuit(20)\n",
    "#Currently the CZs are calibrated for 3-8, 8-13 and 13-17\n",
    "q0 = 3\n",
    "q1 = 8\n",
    "q2 = 13\n",
    "circuit.add(gates.RX(q0,theta=np.pi/2))\n",
    "TOFFOLI_circuit_NN(circuit, q0,q1,q2)\n",
    "circuit.add(gates.CRX(q0,q1,np.pi))\n",
    "TOFFOLI_circuit_NN(circuit, q0,q1,q2)\n",
    "circuit.add(gates.M(q0, q1,q2))\n",
    "job = client.run_circuit(circuit, device=device, project=project, nshots=1000)\n",
    "result = job.result()\n",
    "print(result)\n",
    "result.frequencies()"
   ]
  },
  {
   "cell_type": "code",
   "execution_count": null,
   "id": "887f4bbb",
   "metadata": {},
   "outputs": [],
   "source": []
  }
 ],
 "metadata": {
  "kernelspec": {
   "display_name": "Python 3 (ipykernel)",
   "language": "python",
   "name": "python3"
  },
  "language_info": {
   "codemirror_mode": {
    "name": "ipython",
    "version": 3
   },
   "file_extension": ".py",
   "mimetype": "text/x-python",
   "name": "python",
   "nbconvert_exporter": "python",
   "pygments_lexer": "ipython3",
   "version": "3.12.3"
  }
 },
 "nbformat": 4,
 "nbformat_minor": 5
}
