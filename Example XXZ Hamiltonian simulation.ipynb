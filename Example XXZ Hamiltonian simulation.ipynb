{
 "cells": [
  {
   "cell_type": "code",
   "execution_count": 1,
   "id": "b80b4738",
   "metadata": {
    "scrolled": true
   },
   "outputs": [
    {
     "name": "stderr",
     "output_type": "stream",
     "text": [
      "/home/marek/.local/lib/python3.12/site-packages/matplotlib/projections/__init__.py:63: UserWarning: Unable to import Axes3D. This may be due to multiple versions of Matplotlib being installed (e.g. as a system package and as a pip package). As a result, the 3D projection is not available.\n",
      "  warnings.warn(\"Unable to import Axes3D. This may be due to multiple versions of \"\n",
      "[Qibo 0.2.19|INFO|2025-06-19 22:38:40]: Using numpy backend on /CPU:0\n"
     ]
    }
   ],
   "source": [
    "from copy import deepcopy\n",
    "import numpy as np\n",
    "import matplotlib.pyplot as plt\n",
    "from hyperopt import hp, tpe\n",
    "from scipy.linalg import expm\n",
    "from qibo import hamiltonians, set_backend, Circuit\n",
    "from qibo.symbols import *\n",
    "\n",
    "import qibo\n",
    "from qibo.transpiler.unitary_decompositions import two_qubit_decomposition\n",
    "qibo.set_backend(\"numpy\")\n",
    "backend = qibo.backends.NumpyBackend()\n",
    "np.set_printoptions(precision=3, suppress=True)"
   ]
  },
  {
   "cell_type": "code",
   "execution_count": 2,
   "id": "1a2760cb",
   "metadata": {},
   "outputs": [
    {
     "name": "stdout",
     "output_type": "stream",
     "text": [
      "API token loaded from 'nqch_API_token.pickle'.\n"
     ]
    }
   ],
   "source": [
    "import qibo\n",
    "import qibo_client\n",
    "import utils_tokens\n",
    "\n",
    "\n",
    "# authenticate to server through the client instance\n",
    "client = qibo_client.Client(utils_tokens.load_api_token())\n",
    "\n",
    "# run the circuit\n",
    "device = \"sinq20\"\n",
    "project = \"personal\""
   ]
  },
  {
   "cell_type": "code",
   "execution_count": 9,
   "id": "0fc3570e",
   "metadata": {},
   "outputs": [],
   "source": [
    "from XXZ_TrotterSuzuki import _add_gates"
   ]
  },
  {
   "cell_type": "code",
   "execution_count": 32,
   "id": "f8b42574",
   "metadata": {},
   "outputs": [
    {
     "name": "stdout",
     "output_type": "stream",
     "text": [
      "Measurement outcomes after 1000 shots:\n",
      "Frequencies (counts per bitstring): Counter({'100': 682, '010': 222, '001': 96})\n"
     ]
    }
   ],
   "source": [
    "circuit = Circuit(3)\n",
    "circuit.add(gates.RX(0,3.14))\n",
    "circuit += nqubit_XXZ_decomposition(3, 0.3)\n",
    "circuit.add(gates.M(0,1,2))\n",
    "\n",
    "# Define the number of measurement shots\n",
    "nshots = 1000\n",
    "\n",
    "# Execute the circuit with the specified number of shots\n",
    "result = circuit.execute(nshots=nshots)\n",
    "\n",
    "# Get the measurement frequencies (counts for each bitstring)\n",
    "# The keys will be bitstrings (e.g., '000', '001'), and values will be their counts\n",
    "frequencies = result.frequencies()\n",
    "\n",
    "# Print the frequencies\n",
    "print(f\"Measurement outcomes after {nshots} shots:\")\n",
    "print(\"Frequencies (counts per bitstring):\", frequencies)\n",
    "\n"
   ]
  },
  {
   "cell_type": "code",
   "execution_count": 32,
   "id": "a5374f41",
   "metadata": {},
   "outputs": [
    {
     "name": "stdout",
     "output_type": "stream",
     "text": [
      "Measurement outcomes after 1000 shots:\n",
      "Frequencies (counts per bitstring): Counter({'100': 690, '010': 221, '001': 89})\n"
     ]
    }
   ],
   "source": [
    "circuit = Circuit(3)\n",
    "circuit.add(gates.RX(0,3.14))\n",
    "circuit += nqubit_XXZ_decomposition(3, .3,steps=1)\n",
    "circuit.add(gates.M(0,1,2))\n",
    "\n",
    "# Define the number of measurement shots\n",
    "nshots = 1000\n",
    "\n",
    "# Execute the circuit with the specified number of shots\n",
    "result = circuit.execute(nshots=nshots)\n",
    "\n",
    "# Get the measurement frequencies (counts for each bitstring)\n",
    "# The keys will be bitstrings (e.g., '000', '001'), and values will be their counts\n",
    "frequencies = result.frequencies()\n",
    "\n",
    "# Print the frequencies\n",
    "print(f\"Measurement outcomes after {nshots} shots:\")\n",
    "print(\"Frequencies (counts per bitstring):\", frequencies)\n",
    "\n"
   ]
  },
  {
   "cell_type": "code",
   "execution_count": 34,
   "id": "9c3df5af",
   "metadata": {},
   "outputs": [],
   "source": [
    "circuit_QPU= Circuit(20)\n",
    "#Currently the CZs are calibrated for 3-8, 8-13 and 13-17\n",
    "q0 = 8\n",
    "q1 = 13\n",
    "q2 = 17\n",
    "circuit_QPU.add(circuit.on_qubits(q0,q1,q2))\n",
    "\n",
    "job = client.run_circuit(circuit_QPU, device=device, project=project, nshots=1000)\n",
    "result = job.result()\n",
    "print(result)\n",
    "result.frequencies()"
   ]
  },
  {
   "cell_type": "code",
   "execution_count": null,
   "id": "cf5bd8c8",
   "metadata": {},
   "outputs": [],
   "source": []
  },
  {
   "cell_type": "code",
   "execution_count": 33,
   "id": "23040b8f",
   "metadata": {},
   "outputs": [
    {
     "name": "stdout",
     "output_type": "stream",
     "text": [
      "0: ─RX─X─RZ─o────X─RZ───────────────────────────────M─\n",
      "1: ─RZ─o─RY─X─RY─o────X─RZ─o────X─RZ────────────────M─\n",
      "2: ────────────────RZ─o─RY─X─RY─o────X─RZ─o────X─RZ─M─\n",
      "3: ───────────────────────────────RZ─o─RY─X─RY─o────M─\n",
      "Measurement outcomes after 1000 shots:\n",
      "Frequencies (counts per bitstring): Counter({'1000': 557, '0100': 249, '0010': 108, '0001': 86})\n"
     ]
    }
   ],
   "source": [
    "delta = 0.5\n",
    "t = 0.35\n",
    "steps =1\n",
    "circuit = Circuit(4)\n",
    "circuit.add(gates.RX(0,3.14))\n",
    "circuit = _add_gates(circuit, [0],[1], t, delta, steps)\n",
    "circuit = _add_gates(circuit, [1],[2], t, delta, steps)\n",
    "circuit = _add_gates(circuit, [2],[3], t, delta, steps)\n",
    "circuit.add(gates.M(0,1,2,3))\n",
    "circuit.draw()\n",
    "\n",
    "# Define the number of measurement shots\n",
    "nshots = 1000\n",
    "\n",
    "# Execute the circuit with the specified number of shots\n",
    "result = circuit.execute(nshots=nshots)\n",
    "\n",
    "# Get the measurement frequencies (counts for each bitstring)\n",
    "# The keys will be bitstrings (e.g., '000', '001'), and values will be their counts\n",
    "frequencies = result.frequencies()\n",
    "\n",
    "# Print the frequencies\n",
    "print(f\"Measurement outcomes after {nshots} shots:\")\n",
    "print(\"Frequencies (counts per bitstring):\", frequencies)"
   ]
  },
  {
   "cell_type": "code",
   "execution_count": 34,
   "id": "82a4b3ff",
   "metadata": {},
   "outputs": [
    {
     "name": "stderr",
     "output_type": "stream",
     "text": [
      "[2025-06-19 22:49:21,085] INFO: Post new circuit on the server\n",
      "[2025-06-19 22:49:22,143] INFO: Job posted on server with pid add62660e79d4a37afd4ab9a3575be31\n",
      "[2025-06-19 22:49:22,862] INFO: Please wait until your job is completed...\n"
     ]
    },
    {
     "name": "stdout",
     "output_type": "stream",
     "text": [
      "<qibo.result.MeasurementOutcomes object at 0x7ac8b393c860>\n"
     ]
    },
    {
     "data": {
      "text/plain": [
       "Counter({'1000': 358,\n",
       "         '0000': 191,\n",
       "         '0100': 127,\n",
       "         '0010': 75,\n",
       "         '1100': 59,\n",
       "         '0001': 49,\n",
       "         '1010': 25,\n",
       "         '0110': 22,\n",
       "         '1011': 16,\n",
       "         '1110': 16,\n",
       "         '1001': 14,\n",
       "         '0011': 12,\n",
       "         '0101': 12,\n",
       "         '0111': 11,\n",
       "         '1101': 8,\n",
       "         '1111': 5})"
      ]
     },
     "execution_count": 34,
     "metadata": {},
     "output_type": "execute_result"
    }
   ],
   "source": [
    "circuit_QPU= Circuit(20)\n",
    "#Currently the CZs are calibrated for 3-8, 8-13 and 13-17\n",
    "q0 = 3\n",
    "q1 = 8\n",
    "q2 = 13\n",
    "q3 = 17\n",
    "circuit_QPU.add(circuit.on_qubits(q0,q1,q2,q3))\n",
    "\n",
    "job = client.run_circuit(circuit_QPU, device=device, project=project, nshots=1000)\n",
    "result = job.result()\n",
    "print(result)\n",
    "result.frequencies()"
   ]
  },
  {
   "cell_type": "code",
   "execution_count": 36,
   "id": "de8216dd",
   "metadata": {},
   "outputs": [
    {
     "name": "stdout",
     "output_type": "stream",
     "text": [
      "0: ─RX─X─RZ─o────X─RZ───────────────────────────────M─\n",
      "1: ─RZ─o─RY─X─RY─o────X─RZ─o────X─RZ────────────────M─\n",
      "2: ────────────────RZ─o─RY─X─RY─o────X─RZ─o────X─RZ─M─\n",
      "3: ───────────────────────────────RZ─o─RY─X─RY─o────M─\n",
      "Measurement outcomes after 1000 shots:\n",
      "Frequencies (counts per bitstring): Counter({'0001': 929, '0010': 25, '1000': 24, '0100': 22})\n"
     ]
    }
   ],
   "source": [
    "delta = 0.5\n",
    "t = 0.7\n",
    "steps =1\n",
    "circuit = Circuit(4)\n",
    "circuit.add(gates.RX(0,3.14))\n",
    "circuit = _add_gates(circuit, [0],[1], t, delta, steps)\n",
    "circuit = _add_gates(circuit, [1],[2], t, delta, steps)\n",
    "circuit = _add_gates(circuit, [2],[3], t, delta, steps)\n",
    "circuit.add(gates.M(0,1,2,3))\n",
    "circuit.draw()\n",
    "\n",
    "# Define the number of measurement shots\n",
    "nshots = 1000\n",
    "\n",
    "# Execute the circuit with the specified number of shots\n",
    "result = circuit.execute(nshots=nshots)\n",
    "\n",
    "# Get the measurement frequencies (counts for each bitstring)\n",
    "# The keys will be bitstrings (e.g., '000', '001'), and values will be their counts\n",
    "frequencies = result.frequencies()\n",
    "\n",
    "# Print the frequencies\n",
    "print(f\"Measurement outcomes after {nshots} shots:\")\n",
    "print(\"Frequencies (counts per bitstring):\", frequencies)"
   ]
  },
  {
   "cell_type": "code",
   "execution_count": 37,
   "id": "1b14c535",
   "metadata": {},
   "outputs": [
    {
     "name": "stderr",
     "output_type": "stream",
     "text": [
      "[2025-06-19 22:50:53,489] INFO: Post new circuit on the server\n",
      "[2025-06-19 22:50:54,513] INFO: Job posted on server with pid 6a0bd1c5a4fc4ba5b70a1d412dd1200b\n",
      "[2025-06-19 22:50:55,330] INFO: Please wait until your job is completed...\n"
     ]
    },
    {
     "name": "stdout",
     "output_type": "stream",
     "text": [
      "<qibo.result.MeasurementOutcomes object at 0x7ac8b45f79b0>\n"
     ]
    },
    {
     "data": {
      "text/plain": [
       "Counter({'0001': 315,\n",
       "         '0000': 181,\n",
       "         '1000': 162,\n",
       "         '1001': 77,\n",
       "         '0010': 68,\n",
       "         '0011': 36,\n",
       "         '0100': 35,\n",
       "         '0101': 29,\n",
       "         '1010': 22,\n",
       "         '0110': 19,\n",
       "         '0111': 17,\n",
       "         '1100': 12,\n",
       "         '1101': 10,\n",
       "         '1011': 9,\n",
       "         '1110': 4,\n",
       "         '1111': 4})"
      ]
     },
     "execution_count": 37,
     "metadata": {},
     "output_type": "execute_result"
    }
   ],
   "source": [
    "circuit_QPU= Circuit(20)\n",
    "#Currently the CZs are calibrated for 3-8, 8-13 and 13-17\n",
    "q0 = 3\n",
    "q1 = 8\n",
    "q2 = 13\n",
    "q3 = 17\n",
    "circuit_QPU.add(circuit.on_qubits(q0,q1,q2,q3))\n",
    "\n",
    "job = client.run_circuit(circuit_QPU, device=device, project=project, nshots=1000)\n",
    "result = job.result()\n",
    "print(result)\n",
    "result.frequencies()"
   ]
  },
  {
   "cell_type": "code",
   "execution_count": 39,
   "id": "b8106911",
   "metadata": {},
   "outputs": [
    {
     "name": "stdout",
     "output_type": "stream",
     "text": [
      "0: ─RX─o─X─o───────M─\n",
      "1: ────X─o─X─o─X─o─M─\n",
      "2: ──────────X─o─X─M─\n",
      "3: ────────────────M─\n",
      "Measurement outcomes after 1000 shots:\n",
      "Frequencies (counts per bitstring): Counter({'0010': 1000})\n"
     ]
    }
   ],
   "source": [
    "delta = 0.5\n",
    "t = 0.35\n",
    "steps =1\n",
    "circuit = Circuit(4)\n",
    "circuit.add(gates.RX(0,3.14))\n",
    "circuit.add(gates.CNOT(0,1))\n",
    "circuit.add(gates.CNOT(1,0))\n",
    "circuit.add(gates.CNOT(0,1))\n",
    "circuit.add(gates.CNOT(1,2))\n",
    "circuit.add(gates.CNOT(2,1))\n",
    "circuit.add(gates.CNOT(1,2))\n",
    "circuit.add(gates.M(0,1,2,3))\n",
    "circuit.draw()\n",
    "\n",
    "# Define the number of measurement shots\n",
    "nshots = 1000\n",
    "\n",
    "# Execute the circuit with the specified number of shots\n",
    "result = circuit.execute(nshots=nshots)\n",
    "\n",
    "# Get the measurement frequencies (counts for each bitstring)\n",
    "# The keys will be bitstrings (e.g., '000', '001'), and values will be their counts\n",
    "frequencies = result.frequencies()\n",
    "\n",
    "# Print the frequencies\n",
    "print(f\"Measurement outcomes after {nshots} shots:\")\n",
    "print(\"Frequencies (counts per bitstring):\", frequencies)"
   ]
  },
  {
   "cell_type": "code",
   "execution_count": 40,
   "id": "72490633",
   "metadata": {},
   "outputs": [
    {
     "name": "stderr",
     "output_type": "stream",
     "text": [
      "[2025-06-19 22:52:58,430] INFO: Post new circuit on the server\n",
      "[2025-06-19 22:52:59,511] INFO: Job posted on server with pid e6f445a22af44156b794084525db7ae6\n",
      "[2025-06-19 22:53:00,375] INFO: Please wait until your job is completed...\n"
     ]
    },
    {
     "name": "stdout",
     "output_type": "stream",
     "text": [
      "<qibo.result.MeasurementOutcomes object at 0x7ac8b38e5790>\n"
     ]
    },
    {
     "data": {
      "text/plain": [
       "Counter({'0010': 620,\n",
       "         '0000': 119,\n",
       "         '1000': 74,\n",
       "         '0110': 56,\n",
       "         '1010': 55,\n",
       "         '0100': 24,\n",
       "         '0011': 15,\n",
       "         '0001': 12,\n",
       "         '1100': 12,\n",
       "         '1110': 5,\n",
       "         '0101': 3,\n",
       "         '1011': 3,\n",
       "         '1001': 2})"
      ]
     },
     "execution_count": 40,
     "metadata": {},
     "output_type": "execute_result"
    }
   ],
   "source": [
    "circuit_QPU= Circuit(20)\n",
    "#Currently the CZs are calibrated for 3-8, 8-13 and 13-17\n",
    "q0 = 3\n",
    "q1 = 8\n",
    "q2 = 13\n",
    "q3 = 17\n",
    "circuit_QPU.add(circuit.on_qubits(q0,q1,q2,q3))\n",
    "\n",
    "job = client.run_circuit(circuit_QPU, device=device, project=project, nshots=1000)\n",
    "result = job.result()\n",
    "print(result)\n",
    "result.frequencies()"
   ]
  },
  {
   "cell_type": "code",
   "execution_count": 41,
   "id": "6fb331ab",
   "metadata": {},
   "outputs": [
    {
     "name": "stdout",
     "output_type": "stream",
     "text": [
      "0: ─RX─o─X─o─────────────M─\n",
      "1: ────X─o─X─o─X─o───────M─\n",
      "2: ──────────X─o─X─o─X─o─M─\n",
      "3: ────────────────X─o─X─M─\n",
      "Measurement outcomes after 1000 shots:\n",
      "Frequencies (counts per bitstring): Counter({'0001': 1000})\n"
     ]
    }
   ],
   "source": [
    "delta = 0.5\n",
    "t = 0.35\n",
    "steps =1\n",
    "circuit = Circuit(4)\n",
    "circuit.add(gates.RX(0,3.14))\n",
    "circuit.add(gates.CNOT(0,1))\n",
    "circuit.add(gates.CNOT(1,0))\n",
    "circuit.add(gates.CNOT(0,1))\n",
    "circuit.add(gates.CNOT(1,2))\n",
    "circuit.add(gates.CNOT(2,1))\n",
    "circuit.add(gates.CNOT(1,2))\n",
    "circuit.add(gates.CNOT(2,3))\n",
    "circuit.add(gates.CNOT(3,2))\n",
    "circuit.add(gates.CNOT(2,3))\n",
    "circuit.add(gates.M(0,1,2,3))\n",
    "circuit.draw()\n",
    "\n",
    "# Define the number of measurement shots\n",
    "nshots = 1000\n",
    "\n",
    "# Execute the circuit with the specified number of shots\n",
    "result = circuit.execute(nshots=nshots)\n",
    "\n",
    "# Get the measurement frequencies (counts for each bitstring)\n",
    "# The keys will be bitstrings (e.g., '000', '001'), and values will be their counts\n",
    "frequencies = result.frequencies()\n",
    "\n",
    "# Print the frequencies\n",
    "print(f\"Measurement outcomes after {nshots} shots:\")\n",
    "print(\"Frequencies (counts per bitstring):\", frequencies)"
   ]
  },
  {
   "cell_type": "code",
   "execution_count": 42,
   "id": "37e2dea9",
   "metadata": {},
   "outputs": [
    {
     "name": "stderr",
     "output_type": "stream",
     "text": [
      "[2025-06-19 22:54:14,934] INFO: Post new circuit on the server\n",
      "[2025-06-19 22:54:15,953] INFO: Job posted on server with pid 2c23dc2cbaef4897a9523cba50e4bb3b\n",
      "[2025-06-19 22:54:16,673] INFO: Please wait until your job is completed...\n"
     ]
    },
    {
     "name": "stdout",
     "output_type": "stream",
     "text": [
      "<qibo.result.MeasurementOutcomes object at 0x7ac8b4497fe0>\n"
     ]
    },
    {
     "data": {
      "text/plain": [
       "Counter({'0001': 510,\n",
       "         '0000': 150,\n",
       "         '1000': 60,\n",
       "         '0011': 55,\n",
       "         '1001': 48,\n",
       "         '0010': 45,\n",
       "         '0111': 35,\n",
       "         '0101': 34,\n",
       "         '0100': 27,\n",
       "         '0110': 15,\n",
       "         '1010': 6,\n",
       "         '1110': 6,\n",
       "         '1100': 5,\n",
       "         '1111': 2,\n",
       "         '1011': 1,\n",
       "         '1101': 1})"
      ]
     },
     "execution_count": 42,
     "metadata": {},
     "output_type": "execute_result"
    }
   ],
   "source": [
    "circuit_QPU= Circuit(20)\n",
    "#Currently the CZs are calibrated for 3-8, 8-13 and 13-17\n",
    "q0 = 3\n",
    "q1 = 8\n",
    "q2 = 13\n",
    "q3 = 17\n",
    "circuit_QPU.add(circuit.on_qubits(q0,q1,q2,q3))\n",
    "\n",
    "job = client.run_circuit(circuit_QPU, device=device, project=project, nshots=1000)\n",
    "result = job.result()\n",
    "print(result)\n",
    "result.frequencies()"
   ]
  },
  {
   "cell_type": "code",
   "execution_count": null,
   "id": "928c611f",
   "metadata": {},
   "outputs": [],
   "source": []
  }
 ],
 "metadata": {
  "kernelspec": {
   "display_name": "Python 3 (ipykernel)",
   "language": "python",
   "name": "python3"
  },
  "language_info": {
   "codemirror_mode": {
    "name": "ipython",
    "version": 3
   },
   "file_extension": ".py",
   "mimetype": "text/x-python",
   "name": "python",
   "nbconvert_exporter": "python",
   "pygments_lexer": "ipython3",
   "version": "3.12.3"
  }
 },
 "nbformat": 4,
 "nbformat_minor": 5
}
