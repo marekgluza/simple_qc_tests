{
 "cells": [
  {
   "cell_type": "code",
   "execution_count": 2,
   "id": "b80b4738",
   "metadata": {},
   "outputs": [
    {
     "name": "stderr",
     "output_type": "stream",
     "text": [
      "[Qibo 0.2.19|INFO|2025-06-19 22:27:55]: Using numpy backend on /CPU:0\n"
     ]
    }
   ],
   "source": [
    "from copy import deepcopy\n",
    "import numpy as np\n",
    "import matplotlib.pyplot as plt\n",
    "from hyperopt import hp, tpe\n",
    "from scipy.linalg import expm\n",
    "from qibo import hamiltonians, set_backend, Circuit\n",
    "from qibo.symbols import *\n",
    "\n",
    "import qibo\n",
    "from qibo.transpiler.unitary_decompositions import two_qubit_decomposition\n",
    "qibo.set_backend(\"numpy\")\n",
    "backend = qibo.backends.NumpyBackend()\n",
    "np.set_printoptions(precision=3, suppress=True)"
   ]
  },
  {
   "cell_type": "code",
   "execution_count": 3,
   "id": "1a2760cb",
   "metadata": {},
   "outputs": [
    {
     "name": "stdout",
     "output_type": "stream",
     "text": [
      "API token loaded from 'nqch_API_token.pickle'.\n"
     ]
    }
   ],
   "source": [
    "import qibo\n",
    "import qibo_client\n",
    "import utils_tokens\n",
    "\n",
    "\n",
    "# authenticate to server through the client instance\n",
    "client = qibo_client.Client(utils_tokens.load_api_token())\n",
    "\n",
    "# run the circuit\n",
    "device = \"sinq20\"\n",
    "project = \"personal\""
   ]
  },
  {
   "cell_type": "code",
   "execution_count": 4,
   "id": "0fc3570e",
   "metadata": {},
   "outputs": [],
   "source": [
    "from XXZ_TrotterSuzuki import *"
   ]
  },
  {
   "cell_type": "code",
   "execution_count": 5,
   "id": "d170d1e7",
   "metadata": {},
   "outputs": [],
   "source": [
    "import XXZ_TrotterSuzuki"
   ]
  },
  {
   "cell_type": "code",
   "execution_count": 14,
   "id": "fd70c14b",
   "metadata": {},
   "outputs": [
    {
     "name": "stdout",
     "output_type": "stream",
     "text": [
      "Measurement outcomes after 1000 shots:\n",
      "Frequencies (counts per bitstring): Counter({'100': 849, '010': 131, '001': 20})\n"
     ]
    }
   ],
   "source": [
    "circuit = Circuit(3)\n",
    "circuit.add(gates.RX(0,3.14))\n",
    "circuit += nqubit_XXZ_decomposition(3, 0.2)\n",
    "circuit.add(gates.M(0,1,2))\n",
    "\n",
    "# Define the number of measurement shots\n",
    "nshots = 1000\n",
    "\n",
    "# Execute the circuit with the specified number of shots\n",
    "result = circuit.execute(nshots=nshots)\n",
    "\n",
    "# Get the measurement frequencies (counts for each bitstring)\n",
    "# The keys will be bitstrings (e.g., '000', '001'), and values will be their counts\n",
    "frequencies = result.frequencies()\n",
    "\n",
    "# Print the frequencies\n",
    "print(f\"Measurement outcomes after {nshots} shots:\")\n",
    "print(\"Frequencies (counts per bitstring):\", frequencies)\n",
    "\n"
   ]
  },
  {
   "cell_type": "code",
   "execution_count": 15,
   "id": "5c6eade6",
   "metadata": {},
   "outputs": [
    {
     "name": "stdout",
     "output_type": "stream",
     "text": [
      "Measurement outcomes after 1000 shots:\n",
      "Frequencies (counts per bitstring): Counter({'100': 684, '010': 219, '001': 97})\n"
     ]
    }
   ],
   "source": [
    "circuit = Circuit(3)\n",
    "circuit.add(gates.RX(0,3.14))\n",
    "circuit += nqubit_XXZ_decomposition(3, 0.3)\n",
    "circuit.add(gates.M(0,1,2))\n",
    "\n",
    "# Define the number of measurement shots\n",
    "nshots = 1000\n",
    "\n",
    "# Execute the circuit with the specified number of shots\n",
    "result = circuit.execute(nshots=nshots)\n",
    "\n",
    "# Get the measurement frequencies (counts for each bitstring)\n",
    "# The keys will be bitstrings (e.g., '000', '001'), and values will be their counts\n",
    "frequencies = result.frequencies()\n",
    "\n",
    "# Print the frequencies\n",
    "print(f\"Measurement outcomes after {nshots} shots:\")\n",
    "print(\"Frequencies (counts per bitstring):\", frequencies)\n",
    "\n"
   ]
  },
  {
   "cell_type": "code",
   "execution_count": 32,
   "id": "c9d4dbe9",
   "metadata": {},
   "outputs": [
    {
     "name": "stdout",
     "output_type": "stream",
     "text": [
      "Measurement outcomes after 1000 shots:\n",
      "Frequencies (counts per bitstring): Counter({'100': 690, '010': 221, '001': 89})\n"
     ]
    }
   ],
   "source": [
    "circuit = Circuit(3)\n",
    "circuit.add(gates.RX(0,3.14))\n",
    "circuit += nqubit_XXZ_decomposition(3, .3,steps=1)\n",
    "circuit.add(gates.M(0,1,2))\n",
    "\n",
    "# Define the number of measurement shots\n",
    "nshots = 1000\n",
    "\n",
    "# Execute the circuit with the specified number of shots\n",
    "result = circuit.execute(nshots=nshots)\n",
    "\n",
    "# Get the measurement frequencies (counts for each bitstring)\n",
    "# The keys will be bitstrings (e.g., '000', '001'), and values will be their counts\n",
    "frequencies = result.frequencies()\n",
    "\n",
    "# Print the frequencies\n",
    "print(f\"Measurement outcomes after {nshots} shots:\")\n",
    "print(\"Frequencies (counts per bitstring):\", frequencies)\n",
    "\n"
   ]
  },
  {
   "cell_type": "code",
   "execution_count": 34,
   "id": "245afaa3",
   "metadata": {},
   "outputs": [],
   "source": [
    "circuit_QPU= Circuit(20)\n",
    "#Currently the CZs are calibrated for 3-8, 8-13 and 13-17\n",
    "q0 = 8\n",
    "q1 = 13\n",
    "q2 = 17\n",
    "circuit_QPU.add(circuit.on_qubits(q0,q1,q2))"
   ]
  },
  {
   "cell_type": "code",
   "execution_count": 35,
   "id": "f07dcaa3",
   "metadata": {},
   "outputs": [
    {
     "name": "stderr",
     "output_type": "stream",
     "text": [
      "[2025-06-19 22:37:01,464] INFO: Post new circuit on the server\n",
      "[2025-06-19 22:37:02,481] INFO: Job posted on server with pid 28e4f51cc9ca465c8d7c6d0425a9d4b2\n",
      "[2025-06-19 22:37:03,206] INFO: Please wait until your job is completed...\n"
     ]
    },
    {
     "name": "stdout",
     "output_type": "stream",
     "text": [
      "<qibo.result.MeasurementOutcomes object at 0x77597d6e85c0>\n"
     ]
    },
    {
     "data": {
      "text/plain": [
       "Counter({'100': 485,\n",
       "         '010': 170,\n",
       "         '001': 139,\n",
       "         '000': 102,\n",
       "         '110': 35,\n",
       "         '011': 29,\n",
       "         '111': 25,\n",
       "         '101': 15})"
      ]
     },
     "execution_count": 35,
     "metadata": {},
     "output_type": "execute_result"
    }
   ],
   "source": [
    "job = client.run_circuit(circuit_QPU, device=device, project=project, nshots=1000)\n",
    "result = job.result()\n",
    "print(result)\n",
    "result.frequencies()"
   ]
  },
  {
   "cell_type": "code",
   "execution_count": null,
   "id": "cf5bd8c8",
   "metadata": {},
   "outputs": [],
   "source": []
  },
  {
   "cell_type": "code",
   "execution_count": null,
   "id": "9616574d",
   "metadata": {},
   "outputs": [],
   "source": []
  }
 ],
 "metadata": {
  "kernelspec": {
   "display_name": "Python 3 (ipykernel)",
   "language": "python",
   "name": "python3"
  },
  "language_info": {
   "codemirror_mode": {
    "name": "ipython",
    "version": 3
   },
   "file_extension": ".py",
   "mimetype": "text/x-python",
   "name": "python",
   "nbconvert_exporter": "python",
   "pygments_lexer": "ipython3",
   "version": "3.12.3"
  }
 },
 "nbformat": 4,
 "nbformat_minor": 5
}
