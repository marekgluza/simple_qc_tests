{
 "cells": [
  {
   "cell_type": "code",
   "execution_count": 3,
   "id": "736bf824",
   "metadata": {},
   "outputs": [
    {
     "name": "stdout",
     "output_type": "stream",
     "text": [
      "nqch_API_token.pickle\n",
      "'nqch_API_token.pickle' not found. Prompting for API token...\n"
     ]
    },
    {
     "data": {
      "application/javascript": [
       "\n",
       "        var user_token = prompt(\"Please enter your API token:\");\n",
       "        if (user_token !== null && user_token.trim() !== \"\") {\n",
       "            // Call the Python function `_save_and_set_token_from_js`\n",
       "            // We need to carefully escape quotes if the token contains them.\n",
       "            // For simplicity, this assumes no complex quotes in the token.\n",
       "            console.log(\"You entered token: \" + user_token);\n",
       "            var escaped_token = user_token.replace(/'/g, \"\\'\"); // Basic escaping for single quotes\n",
       "            IPython.notebook.kernel.execute(\"_save_and_set_token_from_js('\" + escaped_token + \"')\");\n",
       "        } else {\n",
       "            console.log(\"API token input cancelled or empty. Token will not be set.\");\n",
       "            IPython.notebook.kernel.execute(\"print('API token input cancelled or empty. Token not set.')\");\n",
       "        }\n",
       "        "
      ],
      "text/plain": [
       "<IPython.core.display.Javascript object>"
      ]
     },
     "metadata": {},
     "output_type": "display_data"
    },
    {
     "data": {
      "text/html": [
       "<p><em>A browser pop-up prompt should appear. Please enter your token there.</em></p>"
      ],
      "text/plain": [
       "<IPython.core.display.HTML object>"
      ]
     },
     "metadata": {},
     "output_type": "display_data"
    }
   ],
   "source": [
    "from utils_tokens import TOKEN_FILE_PATH \n",
    "import os\n",
    "import pickle\n",
    "from IPython.display import display, Javascript, HTML\n",
    "import time\n",
    "print(TOKEN_FILE_PATH)\n",
    "def _save_and_set_token_from_js(token_value: str):\n",
    "    \"\"\"\n",
    "    Internal helper function called by JavaScript to save and set the token.\n",
    "    Do not call this directly from Python.\n",
    "    \"\"\"\n",
    "   \n",
    "    token_api = token_value\n",
    "    print(token_value)\n",
    "    try:\n",
    "        with open(TOKEN_FILE_PATH, \"wb\") as f:\n",
    "            pickle.dump(token_api, f)\n",
    "        print(f\"Token received and saved to '{TOKEN_FILE_PATH}'.\")\n",
    "    except Exception as e:\n",
    "        print(f\"Error saving token to '{TOKEN_FILE_PATH}': {e}\")\n",
    "\n",
    "\n",
    "# --- Main function to check/prompt for token ---\n",
    "def prompt_for_api_token():\n",
    "    \"\"\"\n",
    "    Checks for a pickled API token. If it exists, loads it.\n",
    "    Otherwise, prompts the user via JavaScript for the token and pickles it.\n",
    "    The token will be available in the global 'token_api' variable once set.\n",
    "    \"\"\"\n",
    "\n",
    "    if not os.path.exists(TOKEN_FILE_PATH):\n",
    "        # File does not exist, prompt for token\n",
    "        print(f\"'{TOKEN_FILE_PATH}' not found. Prompting for API token...\")\n",
    "\n",
    "        js_code = f\"\"\"\n",
    "        var user_token = prompt(\"Please enter your API token:\");\n",
    "        if (user_token !== null && user_token.trim() !== \"\") {{\n",
    "            // Call the Python function `_save_and_set_token_from_js`\n",
    "            // We need to carefully escape quotes if the token contains them.\n",
    "            // For simplicity, this assumes no complex quotes in the token.\n",
    "            console.log(\"You entered token: \" + user_token);\n",
    "            var escaped_token = user_token.replace(/'/g, \"\\\\'\"); // Basic escaping for single quotes\n",
    "            IPython.notebook.kernel.execute(\"_save_and_set_token_from_js('\" + escaped_token + \"')\");\n",
    "        }} else {{\n",
    "            console.log(\"API token input cancelled or empty. Token will not be set.\");\n",
    "            IPython.notebook.kernel.execute(\"print('API token input cancelled or empty. Token not set.')\");\n",
    "        }}\n",
    "        \"\"\"\n",
    "        display(Javascript(js_code))\n",
    "        # Provide visual feedback to the user that a prompt should appear\n",
    "        display(HTML(\"<p><em>A browser pop-up prompt should appear. Please enter your token there.</em></p>\"))\n",
    "\n",
    "\n",
    "# --- Register the helper function for JavaScript to call ---\n",
    "# This makes _save_and_set_token_from_js callable by IPython.notebook.kernel.execute\n",
    "# from Javascript.\n",
    "from IPython.core.interactiveshell import InteractiveShell\n",
    "# Check if running in IPython (Jupyter)\n",
    "if 'IPython' in globals():\n",
    "    InteractiveShell.instance().user_ns['_save_and_set_token_from_js'] = _save_and_set_token_from_js\n",
    "\n",
    "prompt_for_api_token()"
   ]
  },
  {
   "cell_type": "code",
   "execution_count": 4,
   "id": "665be7f2",
   "metadata": {},
   "outputs": [
    {
     "name": "stdout",
     "output_type": "stream",
     "text": [
      "API token loaded from 'nqch_API_token.pickle'.\n"
     ]
    }
   ],
   "source": [
    "import utils_tokens\n",
    "import time\n",
    "time.sleep(3)\n",
    "token = utils_tokens.load_api_token()\n"
   ]
  },
  {
   "cell_type": "code",
   "execution_count": 5,
   "id": "7790018e",
   "metadata": {},
   "outputs": [],
   "source": [
    "import qibo_client\n",
    "\n",
    "# authenticate to server through the client instance\n",
    "client = qibo_client.Client(token)\n",
    "\n",
    "# run the circuit\n",
    "device = \"sinq20\"\n",
    "project = \"personal\""
   ]
  },
  {
   "cell_type": "code",
   "execution_count": 6,
   "id": "6b62d6f2",
   "metadata": {},
   "outputs": [
    {
     "name": "stderr",
     "output_type": "stream",
     "text": [
      "[2025-06-19 21:02:38,813] INFO: Post new circuit on the server\n",
      "[2025-06-19 21:02:39,731] INFO: Job posted on server with pid 5e852688cdbd4ef691c0f173f404980f\n",
      "[2025-06-19 21:02:40,350] INFO: Please wait until your job is completed...\n"
     ]
    },
    {
     "name": "stdout",
     "output_type": "stream",
     "text": [
      "<qibo.result.MeasurementOutcomes object at 0x7a80f963ae70>\n"
     ]
    },
    {
     "name": "stderr",
     "output_type": "stream",
     "text": [
      "[Qibo 0.2.19|INFO|2025-06-19 21:03:10]: Using qibojit (numba) backend on /CPU:0\n",
      "[2025-06-19 21:03:10,440] INFO: Using qibojit (numba) backend on /CPU:0\n"
     ]
    },
    {
     "data": {
      "text/plain": [
       "Counter({'00': 1})"
      ]
     },
     "execution_count": 6,
     "metadata": {},
     "output_type": "execute_result"
    }
   ],
   "source": [
    "from qibo import Circuit, gates\n",
    "import numpy as np\n",
    "circuit = Circuit(20)\n",
    "#Currently the CZs are calibrated for 3-8, 8-13 and 13-17\n",
    "q0 = 3\n",
    "q1 = 8\n",
    "circuit.add(gates.CNOT(q0, q1))\n",
    "circuit.add(gates.RX(q0, np.pi/2))\n",
    "circuit.add(gates.CNOT(q0, q1))\n",
    "circuit.add(gates.M(q0, q1))\n",
    "job = client.run_circuit(circuit, device=device, project=project, nshots=1)\n",
    "result = job.result()\n",
    "print(result)\n",
    "result.frequencies()"
   ]
  },
  {
   "cell_type": "code",
   "execution_count": null,
   "id": "df27ed71",
   "metadata": {},
   "outputs": [],
   "source": []
  }
 ],
 "metadata": {
  "kernelspec": {
   "display_name": "Python 3 (ipykernel)",
   "language": "python",
   "name": "python3"
  },
  "language_info": {
   "codemirror_mode": {
    "name": "ipython",
    "version": 3
   },
   "file_extension": ".py",
   "mimetype": "text/x-python",
   "name": "python",
   "nbconvert_exporter": "python",
   "pygments_lexer": "ipython3",
   "version": "3.12.3"
  }
 },
 "nbformat": 4,
 "nbformat_minor": 5
}
