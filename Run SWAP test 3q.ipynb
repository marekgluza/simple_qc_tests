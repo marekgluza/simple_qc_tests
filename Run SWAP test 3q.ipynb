{
 "cells": [
  {
   "cell_type": "code",
   "execution_count": 1,
   "id": "b80b4738",
   "metadata": {},
   "outputs": [
    {
     "name": "stderr",
     "output_type": "stream",
     "text": [
      "/home/marek/.local/lib/python3.12/site-packages/matplotlib/projections/__init__.py:63: UserWarning: Unable to import Axes3D. This may be due to multiple versions of Matplotlib being installed (e.g. as a system package and as a pip package). As a result, the 3D projection is not available.\n",
      "  warnings.warn(\"Unable to import Axes3D. This may be due to multiple versions of \"\n",
      "[Qibo 0.2.19|INFO|2025-06-19 12:00:06]: Using numpy backend on /CPU:0\n"
     ]
    }
   ],
   "source": [
    "from copy import deepcopy\n",
    "import numpy as np\n",
    "import matplotlib.pyplot as plt\n",
    "from hyperopt import hp, tpe\n",
    "from scipy.linalg import expm\n",
    "from qibo import hamiltonians, set_backend, Circuit\n",
    "from qibo.symbols import *\n",
    "from qibo.symbols import *\n",
    "import qibo\n",
    "from qibo.transpiler.unitary_decompositions import two_qubit_decomposition\n",
    "qibo.set_backend(\"numpy\")\n",
    "backend = qibo.backends.NumpyBackend()\n",
    "np.set_printoptions(precision=3, suppress=True)"
   ]
  },
  {
   "cell_type": "code",
   "execution_count": 2,
   "id": "209b1269",
   "metadata": {},
   "outputs": [],
   "source": [
    "import qibo\n",
    "import qibo_client\n",
    "\n",
    "# create the circuit you want to run\n",
    "circuit = Circuit(20)\n",
    "\n",
    "\n",
    "# authenticate to server through the client instance\n",
    "token = \"enter TOKEN HERE\"\n",
    "client = qibo_client.Client(token)\n",
    "\n",
    "# run the circuit\n",
    "device = \"sinq20\"\n",
    "project = \"personal\""
   ]
  },
  {
   "cell_type": "markdown",
   "id": "46b84f2d",
   "metadata": {},
   "source": [
    "https://quantumcomputing.stackexchange.com/questions/3957/minimum-number-of-cnots-for-toffoli-with-non-adjacent-controls"
   ]
  },
  {
   "cell_type": "code",
   "execution_count": 3,
   "id": "1370bf94",
   "metadata": {},
   "outputs": [],
   "source": [
    "import scipy\n",
    "\n",
    "def TOFFOLI_circuit_NN(c = None, q0 = 0,q1 = 1,q2 = 2):\n",
    "\n",
    "    if c is None:\n",
    "        c = Circuit(3)\n",
    "\n",
    "    pi = np.pi\n",
    "\n",
    "    c.add(gates.RX(q0,theta = -pi ))\n",
    "    c.add(gates.RX(q1,theta = pi/2 ))\n",
    "    c.add(gates.RZ(q2,theta = pi/2 ))\n",
    "    c.add(gates.RX(q2,theta = pi/2 ))\n",
    "\n",
    "    c.add(gates.CZ(q1,q2))\n",
    "\n",
    "    c.add(gates.RX(q1,theta = -pi ))\n",
    "    c.add(gates.RX(q2,theta = -pi ))\n",
    "\n",
    "    c.add(gates.CZ(q0,q1))\n",
    "\n",
    "    c.add(gates.RX(q0,theta = pi/2 ))\n",
    "    c.add(gates.RX(q1,theta = pi/2 ))\n",
    "\n",
    "    c.add(gates.CZ(q0,q1))\n",
    "\n",
    "    c.add(gates.RZ(q0,theta = -pi/2 ))\n",
    "    c.add(gates.RX(q0,theta = pi/4 ))\n",
    "    c.add(gates.RZ(q1,theta = pi/4 ))\n",
    "    c.add(gates.RX(q1,theta = pi/2 ))\n",
    "\n",
    "    c.add(gates.CZ(q1,q2))\n",
    "\n",
    "    c.add(gates.RX(q1,theta = pi/2 ))\n",
    "    c.add(gates.RX(q2,theta = -pi ))\n",
    "\n",
    "    c.add(gates.CZ(q0,q1))\n",
    "\n",
    "    c.add(gates.RZ(q0,theta = -pi ))\n",
    "    c.add(gates.RX(q0,theta = pi/4 ))\n",
    "    c.add(gates.RZ(q1,theta = -pi/4 ))\n",
    "    c.add(gates.RX(q1,theta = pi/2 ))\n",
    "\n",
    "    c.add(gates.CZ(q0,q1))\n",
    "\n",
    "    c.add(gates.RZ(q0,theta = -pi ))\n",
    "    c.add(gates.RX(q0,theta = pi/2 ))\n",
    "    c.add(gates.RX(q1,theta = pi/2 ))\n",
    "\n",
    "    c.add(gates.CZ(q1,q2))\n",
    "\n",
    "    c.add(gates.RX(q1,theta = pi/2 ))\n",
    "    c.add(gates.RZ(q2,theta = -pi/4 ))\n",
    "    c.add(gates.RX(q2,theta = pi/2 ))\n",
    "    c.add(gates.RZ(q2,theta = pi/2 ))\n",
    "\n",
    "    c.add(gates.CZ(q0,q1))\n",
    "\n",
    "    c.add(gates.RZ(q0,theta = -pi/2 ))\n",
    "    c.add(gates.RX(q0,theta = pi/2 ))\n",
    "    c.add(gates.RZ(q0,theta = -pi/4 ))\n",
    "    c.add(gates.RZ(q1,theta = -pi/2 ))\n",
    "    c.add(gates.RX(q1,theta = pi/2 ))\n",
    "    c.add(gates.RZ(q1,theta = -3*pi/4 ))\n",
    "    return c"
   ]
  },
  {
   "cell_type": "code",
   "execution_count": 4,
   "id": "e83afc89",
   "metadata": {},
   "outputs": [
    {
     "data": {
      "text/plain": [
       "array([[ 1., -0., -0.,  0., -0.,  0., -0.,  0.],\n",
       "       [-0.,  1.,  0., -0.,  0.,  0.,  0., -0.],\n",
       "       [ 0., -0.,  1.,  0.,  0.,  0., -0., -0.],\n",
       "       [-0.,  0.,  0.,  1., -0.,  0.,  0., -0.],\n",
       "       [ 0., -0., -0., -0.,  1.,  0.,  0., -0.],\n",
       "       [-0., -0., -0., -0.,  0.,  1., -0.,  0.],\n",
       "       [-0.,  0., -0.,  0.,  0.,  0.,  0.,  1.],\n",
       "       [ 0.,  0.,  0.,  0.,  0.,  0.,  1., -0.]])"
      ]
     },
     "execution_count": 4,
     "metadata": {},
     "output_type": "execute_result"
    }
   ],
   "source": [
    "c =TOFFOLI_circuit_NN()\n",
    "-(c.unitary()*np.exp(1j*5.10645)).real"
   ]
  },
  {
   "cell_type": "code",
   "execution_count": 5,
   "id": "b21077df",
   "metadata": {},
   "outputs": [
    {
     "name": "stdout",
     "output_type": "stream",
     "text": [
      "0: ─RX─────────o─RX─o─RZ─RX──────o─RZ─RX─o─RZ─RX────────────o─RZ─RX─RZ─\n",
      "1: ─RX────o─RX─Z─RX─Z─RZ─RX─o─RX─Z─RZ─RX─Z─RX────o─RX───────Z─RZ─RX─RZ─\n",
      "2: ─RZ─RX─Z─RX──────────────Z─RX─────────────────Z─RZ─RX─RZ────────────\n"
     ]
    }
   ],
   "source": [
    "c.draw()"
   ]
  },
  {
   "cell_type": "code",
   "execution_count": 12,
   "id": "d6685108",
   "metadata": {},
   "outputs": [],
   "source": [
    "a = {'c': 1, 3:2}"
   ]
  },
  {
   "cell_type": "code",
   "execution_count": 13,
   "id": "519a154b",
   "metadata": {},
   "outputs": [
    {
     "data": {
      "text/plain": [
       "1"
      ]
     },
     "execution_count": 13,
     "metadata": {},
     "output_type": "execute_result"
    }
   ],
   "source": [
    "a['c']"
   ]
  },
  {
   "cell_type": "code",
   "execution_count": 14,
   "id": "7d6ba4e6",
   "metadata": {},
   "outputs": [
    {
     "data": {
      "text/plain": [
       "2"
      ]
     },
     "execution_count": 14,
     "metadata": {},
     "output_type": "execute_result"
    }
   ],
   "source": [
    "a[3]"
   ]
  },
  {
   "cell_type": "code",
   "execution_count": 17,
   "id": "d67a88d2",
   "metadata": {
    "scrolled": true
   },
   "outputs": [],
   "source": [
    "simulation_results = []\n",
    "\n",
    "def swap_test_run( initial_angle = 1 ):\n",
    "    \n",
    "    c_theory = Circuit(3)\n",
    "    q0=0\n",
    "    q1=1\n",
    "    q2=2\n",
    "    qubit_ids_theory = [q0,q1,q2]\n",
    "    c_theory.add( gates.RX(q0,initial_angle))\n",
    "    c_theory.add(gates.H(q2))\n",
    "    TOFFOLI_circuit_NN(c_theory, q0,q2,q1)\n",
    "    c_theory.add(gates.H(q2))\n",
    "    c_theory.add(gates.M(q2))\n",
    "\n",
    "    # Define the number of measurement shots\n",
    "    nshots = 1024\n",
    "\n",
    "    # Execute the circuit with the specified number of shots\n",
    "    result = c_theory.execute(nshots=nshots)\n",
    "\n",
    "    # Get the measurement frequencies (counts for each bitstring)\n",
    "    # The keys will be bitstrings (e.g., '000', '001'), and values will be their counts\n",
    "    frequencies = result.frequencies()\n",
    "\n",
    "    # Print the frequencies\n",
    "    print(\"Simulated SWAP test\")\n",
    "    print(f\"Measurement outcomes after {nshots} shots:\")\n",
    "    print(\"Frequencies (counts per bitstring):\", frequencies)\n",
    "    \n",
    "    \n",
    "    c = Circuit(20)\n",
    "\n",
    "    q0=3\n",
    "    q1=13\n",
    "    q2=8\n",
    "    q3=17\n",
    "    qubit_ids_QPU = [q0,q1,q2]\n",
    "    c.add(gates.RX(q0,initial_angle))\n",
    "\n",
    "    c.add(gates.H(q2))\n",
    "\n",
    "    c.add(gates.CNOT(q1,q2))\n",
    "    TOFFOLI_circuit_NN(c,q0,q2,q1)\n",
    "    c.add(gates.CNOT(q1,q2))\n",
    "\n",
    "\n",
    "    c.add(gates.H(q2))\n",
    "\n",
    "    c.add(gates.M(q2))\n",
    "    job = client.run_circuit(c, device=device, project=project, nshots=nshots)\n",
    "    results_QPU = job.result()\n",
    "    print(results_QPU)\n",
    "    results_QPU.frequencies()\n",
    "\n",
    "    \n",
    "    \n",
    "    return {'circuit_theory' : c_theory, 'initial_angle' : initial_angle,\n",
    "            'n_shots' : nshots, 'qubit_ids_theory':[q0,q1,q2], \n",
    "            'results_theory' : result, 'results_hardware': results_QPU,\n",
    "           'circuit_QPU' : c, 'qubit_ids_theory':qubit_ids_theory, 'qubit_ids_QPU' : qubit_ids_QPU \n",
    "           }\n",
    "    "
   ]
  },
  {
   "cell_type": "code",
   "execution_count": 18,
   "id": "5ad95f01",
   "metadata": {},
   "outputs": [
    {
     "name": "stdout",
     "output_type": "stream",
     "text": [
      "Simulated SWAP test\n",
      "Measurement outcomes after 1024 shots:\n",
      "Frequencies (counts per bitstring): Counter({'0': 1024})\n"
     ]
    },
    {
     "name": "stderr",
     "output_type": "stream",
     "text": [
      "[2025-06-19 12:33:22,603] INFO: Post new circuit on the server\n",
      "[2025-06-19 12:33:23,628] INFO: Job posted on server with pid f2a6e9974f144d32a24da96dbd302d74\n",
      "[2025-06-19 12:33:24,460] INFO: Please wait until your job is completed...\n"
     ]
    },
    {
     "name": "stdout",
     "output_type": "stream",
     "text": [
      "<qibo.result.MeasurementOutcomes object at 0x799f265d3170>\n"
     ]
    },
    {
     "data": {
      "text/plain": [
       "{'circuit_theory': <qibo.models.circuit.Circuit at 0x799f25608aa0>,\n",
       " 'initial_angle': 1,\n",
       " 'n_shots': 1024,\n",
       " 'qubit_ids_theory': [0, 1, 2],\n",
       " 'results_theory': <qibo.result.CircuitResult at 0x799f2658b5f0>,\n",
       " 'results_hardware': <qibo.result.MeasurementOutcomes at 0x799f265d3170>,\n",
       " 'circuit_QPU': <qibo.models.circuit.Circuit at 0x799f82312690>,\n",
       " 'qubit_ids_QPU': [3, 13, 8]}"
      ]
     },
     "execution_count": 18,
     "metadata": {},
     "output_type": "execute_result"
    }
   ],
   "source": [
    "swap_test_run(1)"
   ]
  },
  {
   "cell_type": "code",
   "execution_count": 19,
   "id": "6d0b4c8f",
   "metadata": {},
   "outputs": [],
   "source": [
    "results = _"
   ]
  },
  {
   "cell_type": "code",
   "execution_count": 20,
   "id": "ba36545b",
   "metadata": {},
   "outputs": [
    {
     "data": {
      "text/plain": [
       "{'circuit_theory': <qibo.models.circuit.Circuit at 0x799f25608aa0>,\n",
       " 'initial_angle': 1,\n",
       " 'n_shots': 1024,\n",
       " 'qubit_ids_theory': [0, 1, 2],\n",
       " 'results_theory': <qibo.result.CircuitResult at 0x799f2658b5f0>,\n",
       " 'results_hardware': <qibo.result.MeasurementOutcomes at 0x799f265d3170>,\n",
       " 'circuit_QPU': <qibo.models.circuit.Circuit at 0x799f82312690>,\n",
       " 'qubit_ids_QPU': [3, 13, 8]}"
      ]
     },
     "execution_count": 20,
     "metadata": {},
     "output_type": "execute_result"
    }
   ],
   "source": [
    "results"
   ]
  },
  {
   "cell_type": "code",
   "execution_count": 21,
   "id": "0a984de6",
   "metadata": {},
   "outputs": [],
   "source": [
    "collected_results = [results]"
   ]
  },
  {
   "cell_type": "code",
   "execution_count": 25,
   "id": "e8721d5d",
   "metadata": {},
   "outputs": [
    {
     "name": "stdout",
     "output_type": "stream",
     "text": [
      "Simulated SWAP test\n",
      "Measurement outcomes after 1024 shots:\n",
      "Frequencies (counts per bitstring): Counter({'0': 1024})\n"
     ]
    },
    {
     "name": "stderr",
     "output_type": "stream",
     "text": [
      "[2025-06-19 12:36:41,290] INFO: Post new circuit on the server\n",
      "[2025-06-19 12:36:42,418] INFO: Job posted on server with pid f564be791f7f4c24aa4e437829f45049\n",
      "[2025-06-19 12:36:43,247] INFO: Please wait until your job is completed...\n"
     ]
    },
    {
     "name": "stdout",
     "output_type": "stream",
     "text": [
      "<qibo.result.MeasurementOutcomes object at 0x799f25608650>\n",
      "Simulated SWAP test\n",
      "Measurement outcomes after 1024 shots:\n",
      "Frequencies (counts per bitstring): Counter({'0': 1024})\n"
     ]
    },
    {
     "name": "stderr",
     "output_type": "stream",
     "text": [
      "[2025-06-19 12:37:19,793] INFO: Post new circuit on the server\n",
      "[2025-06-19 12:37:20,832] INFO: Job posted on server with pid 0423ae35660b49f7800267b4edc14cdc\n",
      "[2025-06-19 12:37:21,533] INFO: Please wait until your job is completed...\n"
     ]
    },
    {
     "name": "stdout",
     "output_type": "stream",
     "text": [
      "<qibo.result.MeasurementOutcomes object at 0x799f24b1bbc0>\n",
      "Simulated SWAP test\n",
      "Measurement outcomes after 1024 shots:\n",
      "Frequencies (counts per bitstring): Counter({'0': 1024})\n"
     ]
    },
    {
     "name": "stderr",
     "output_type": "stream",
     "text": [
      "[2025-06-19 12:37:58,500] INFO: Post new circuit on the server\n",
      "[2025-06-19 12:37:59,626] INFO: Job posted on server with pid 3167aff91fdd4c9791b263c8a1b797db\n",
      "[2025-06-19 12:38:00,347] INFO: Please wait until your job is completed...\n"
     ]
    },
    {
     "name": "stdout",
     "output_type": "stream",
     "text": [
      "<qibo.result.MeasurementOutcomes object at 0x799f2560a780>\n",
      "Simulated SWAP test\n",
      "Measurement outcomes after 1024 shots:\n",
      "Frequencies (counts per bitstring): Counter({'0': 1024})\n"
     ]
    },
    {
     "name": "stderr",
     "output_type": "stream",
     "text": [
      "[2025-06-19 12:38:37,104] INFO: Post new circuit on the server\n",
      "[2025-06-19 12:38:38,230] INFO: Job posted on server with pid 05a4cf10fd5a4a39980225d69ce8b431\n",
      "[2025-06-19 12:38:39,062] INFO: Please wait until your job is completed...\n"
     ]
    },
    {
     "name": "stdout",
     "output_type": "stream",
     "text": [
      "<qibo.result.MeasurementOutcomes object at 0x799f2517de80>\n",
      "Simulated SWAP test\n",
      "Measurement outcomes after 1024 shots:\n",
      "Frequencies (counts per bitstring): Counter({'0': 1024})\n"
     ]
    },
    {
     "name": "stderr",
     "output_type": "stream",
     "text": [
      "[2025-06-19 12:39:16,111] INFO: Post new circuit on the server\n",
      "[2025-06-19 12:39:17,338] INFO: Job posted on server with pid 4743fc1dc7f34b55a62102bc594ff7eb\n",
      "[2025-06-19 12:39:18,169] INFO: Please wait until your job is completed...\n"
     ]
    },
    {
     "name": "stdout",
     "output_type": "stream",
     "text": [
      "<qibo.result.MeasurementOutcomes object at 0x799f25b0f4a0>\n",
      "Simulated SWAP test\n",
      "Measurement outcomes after 1024 shots:\n",
      "Frequencies (counts per bitstring): Counter({'0': 1024})\n"
     ]
    },
    {
     "name": "stderr",
     "output_type": "stream",
     "text": [
      "[2025-06-19 12:39:48,567] INFO: Post new circuit on the server\n",
      "[2025-06-19 12:39:49,518] INFO: Job posted on server with pid a84c317c85214a7ababb29c052edfbcb\n",
      "[2025-06-19 12:39:50,257] INFO: Please wait until your job is completed...\n"
     ]
    },
    {
     "name": "stdout",
     "output_type": "stream",
     "text": [
      "<qibo.result.MeasurementOutcomes object at 0x799f24ba1250>\n",
      "Simulated SWAP test\n",
      "Measurement outcomes after 1024 shots:\n",
      "Frequencies (counts per bitstring): Counter({'0': 1024})\n"
     ]
    },
    {
     "name": "stderr",
     "output_type": "stream",
     "text": [
      "[2025-06-19 12:40:14,559] INFO: Post new circuit on the server\n",
      "[2025-06-19 12:40:15,616] INFO: Job posted on server with pid 8eb9a9964a4346e59486ba477fc1447c\n",
      "[2025-06-19 12:40:16,332] INFO: Please wait until your job is completed...\n"
     ]
    },
    {
     "name": "stdout",
     "output_type": "stream",
     "text": [
      "<qibo.result.MeasurementOutcomes object at 0x799f24f37f80>\n",
      "Simulated SWAP test\n",
      "Measurement outcomes after 1024 shots:\n",
      "Frequencies (counts per bitstring): Counter({'0': 1024})\n"
     ]
    },
    {
     "name": "stderr",
     "output_type": "stream",
     "text": [
      "[2025-06-19 12:40:47,034] INFO: Post new circuit on the server\n",
      "[2025-06-19 12:40:47,993] INFO: Job posted on server with pid cc81f4197dab47bfb9945c46ae577b46\n",
      "[2025-06-19 12:40:48,693] INFO: Please wait until your job is completed...\n"
     ]
    },
    {
     "name": "stdout",
     "output_type": "stream",
     "text": [
      "<qibo.result.MeasurementOutcomes object at 0x799f2517e1b0>\n"
     ]
    }
   ],
   "source": [
    "for s in np.linspace(0,3.14,8):\n",
    "    collected_results.append(swap_test_run(s))"
   ]
  },
  {
   "cell_type": "code",
   "execution_count": 34,
   "id": "daee50d0",
   "metadata": {},
   "outputs": [
    {
     "data": {
      "text/plain": [
       "667"
      ]
     },
     "execution_count": 34,
     "metadata": {},
     "output_type": "execute_result"
    }
   ],
   "source": [
    "collected_results[2]['results_hardware'].frequencies()['0']"
   ]
  },
  {
   "cell_type": "code",
   "execution_count": 48,
   "id": "0decd1a7",
   "metadata": {},
   "outputs": [],
   "source": [
    "statistics_hardware = [ collected_results[i]['results_hardware'].frequencies() for i in range(9)]"
   ]
  },
  {
   "cell_type": "code",
   "execution_count": 57,
   "id": "69f2c284",
   "metadata": {},
   "outputs": [],
   "source": [
    "fidelities_CPU = [(collected_results[i]['results_theory'].frequencies()['0']/collected_results[i]['n_shots']-1/2)*2 for i in range(9)]\n",
    "fidelities_QPU = [(collected_results[i]['results_hardware'].frequencies()['0']/collected_results[i]['n_shots']-1/2)*2 for i in range(9)]"
   ]
  },
  {
   "cell_type": "code",
   "execution_count": 58,
   "id": "48d9df0e",
   "metadata": {},
   "outputs": [
    {
     "data": {
      "text/plain": [
       "[0.318359375,\n",
       " 0.388671875,\n",
       " 0.302734375,\n",
       " 0.31640625,\n",
       " 0.314453125,\n",
       " 0.275390625,\n",
       " 0.1875,\n",
       " 0.076171875,\n",
       " 0.052734375]"
      ]
     },
     "execution_count": 58,
     "metadata": {},
     "output_type": "execute_result"
    }
   ],
   "source": [
    "fidelities_QPU"
   ]
  },
  {
   "cell_type": "code",
   "execution_count": 59,
   "id": "fa98dfd3",
   "metadata": {},
   "outputs": [],
   "source": [
    "angles =[collected_results[i]['initial_angle'] for i in range(9)]"
   ]
  },
  {
   "cell_type": "code",
   "execution_count": 60,
   "id": "083e6958",
   "metadata": {},
   "outputs": [
    {
     "data": {
      "text/plain": [
       "Text(0, 0.5, 'fidelity')"
      ]
     },
     "execution_count": 60,
     "metadata": {},
     "output_type": "execute_result"
    },
    {
     "data": {
      "image/png": "[encoded data removed]",
      "text/plain": [
       "<Figure size 640x480 with 1 Axes>"
      ]
     },
     "metadata": {},
     "output_type": "display_data"
    }
   ],
   "source": [
    "import matplotlib.pyplot as plt\n",
    "plt.plot(angles, fidelities_QPU, 'x')\n",
    "plt.plot(angles, fidelities_CPU, 'o')\n",
    "plt.xlabel('Angle')\n",
    "plt.ylabel('fidelity')"
   ]
  },
  {
   "cell_type": "markdown",
   "id": "77f08c30",
   "metadata": {},
   "source": [
    "Above I had a wrong ordering of qubits in the theory swap test and reruning here the CPU data. The function above is corrected but I don't want to waste quota on reruning"
   ]
  },
  {
   "cell_type": "code",
   "execution_count": 70,
   "id": "9f94cb0b",
   "metadata": {},
   "outputs": [],
   "source": [
    "simulation_results = []\n",
    "\n",
    "def swap_test_run( initial_angle = 1 ):\n",
    "    \n",
    "    c_theory = Circuit(3)\n",
    "    q0=0\n",
    "    q1=1\n",
    "    q2=2\n",
    "    qubit_ids_theory = [q0,q1,q2]\n",
    "    c_theory.add( gates.RX(q0,initial_angle))\n",
    "    c_theory.add(gates.H(q2))\n",
    "    TOFFOLI_circuit_NN(c_theory, q0,q2,q1)\n",
    "    c_theory.add(gates.H(q2))\n",
    "    c_theory.add(gates.M(q2))\n",
    "\n",
    "    # Define the number of measurement shots\n",
    "    nshots = 1024\n",
    "\n",
    "    # Execute the circuit with the specified number of shots\n",
    "    result = c_theory.execute(nshots=nshots)\n",
    "\n",
    "    # Get the measurement frequencies (counts for each bitstring)\n",
    "    # The keys will be bitstrings (e.g., '000', '001'), and values will be their counts\n",
    "    frequencies = result.frequencies()\n",
    "\n",
    "    # Print the frequencies\n",
    "    print(\"Simulated SWAP test\")\n",
    "    print(f\"Measurement outcomes after {nshots} shots:\")\n",
    "    print(\"Frequencies (counts per bitstring):\", frequencies)\n",
    "    \n",
    "    \n",
    "    c = Circuit(20)\n",
    "\n",
    "    q0=3\n",
    "    q1=13\n",
    "    q2=8\n",
    "    q3=17\n",
    "    qubit_ids_QPU = [q0,q1,q2]\n",
    "    c.add(gates.RX(q0,initial_angle))\n",
    "\n",
    "    c.add(gates.H(q2))\n",
    "\n",
    "    c.add(gates.CNOT(q1,q2))\n",
    "    TOFFOLI_circuit_NN(c,q0,q2,q1)\n",
    "    c.add(gates.CNOT(q1,q2))\n",
    "\n",
    "\n",
    "    c.add(gates.H(q2))\n",
    "\n",
    "    c.add(gates.M(q2))\n",
    "    #job = client.run_circuit(c, device=device, project=project, nshots=nshots)\n",
    "    results_QPU = c.execute(nshots=nshots)\n",
    "    print(results_QPU)\n",
    "    results_QPU.frequencies()\n",
    "\n",
    "    \n",
    "    \n",
    "    return {'circuit_theory' : c_theory, 'initial_angle' : initial_angle,\n",
    "            'n_shots' : nshots, 'qubit_ids_theory':[q0,q1,q2], \n",
    "            'results_theory' : result, 'results_hardware': results_QPU,\n",
    "           'circuit_QPU' : c, 'qubit_ids_theory':qubit_ids_theory, 'qubit_ids_QPU' : qubit_ids_QPU \n",
    "           }\n",
    "    "
   ]
  },
  {
   "cell_type": "code",
   "execution_count": 71,
   "id": "f39744d8",
   "metadata": {},
   "outputs": [
    {
     "name": "stdout",
     "output_type": "stream",
     "text": [
      "Simulated SWAP test\n",
      "Measurement outcomes after 1024 shots:\n",
      "Frequencies (counts per bitstring): Counter({'0': 1024})\n",
      "(-0.38268-0.92388j)|00000000000000000000>\n",
      "Simulated SWAP test\n",
      "Measurement outcomes after 1024 shots:\n",
      "Frequencies (counts per bitstring): Counter({'0': 1005, '1': 19})\n",
      "(-0.3731-0.90074j)|00000000000000000000> + (-0.10274+0.04256j)|00010000000000000000> + (-0.10274+0.04256j)|00010000000001000000> + (-0.10274+0.04256j)|00010000100000000000> + (-0.10274+0.04256j)|00010000100001000000>\n",
      "Simulated SWAP test\n",
      "Measurement outcomes after 1024 shots:\n",
      "Frequencies (counts per bitstring): Counter({'0': 924, '1': 100})\n",
      "(-0.34482-0.83248j)|00000000000000000000> + (-0.20033+0.08298j)|00010000000000000000> + (-0.20033+0.08298j)|00010000000001000000> + (-0.20033+0.08298j)|00010000100000000000> + (-0.20033+0.08298j)|00010000100001000000>\n",
      "Simulated SWAP test\n",
      "Measurement outcomes after 1024 shots:\n",
      "Frequencies (counts per bitstring): Counter({'0': 808, '1': 216})\n",
      "(-0.29928-0.72251j)|00000000000000000000> + (-0.28789+0.11925j)|00010000000000000000> + (-0.28789+0.11925j)|00010000000001000000> + (-0.28789+0.11925j)|00010000100000000000> + (-0.28789+0.11925j)|00010000100001000000>\n",
      "Simulated SWAP test\n",
      "Measurement outcomes after 1024 shots:\n",
      "Frequencies (counts per bitstring): Counter({'0': 692, '1': 332})\n",
      "(-0.23874-0.57636j)|00000000000000000000> + (-0.36103+0.14954j)|00010000000000000000> + (-0.36103+0.14954j)|00010000000001000000> + (-0.36103+0.14954j)|00010000100000000000> + (-0.36103+0.14954j)|00010000100001000000>\n",
      "Simulated SWAP test\n",
      "Measurement outcomes after 1024 shots:\n",
      "Frequencies (counts per bitstring): Counter({'0': 611, '1': 413})\n",
      "(-0.16624-0.40133j)|00000000000000000000> + (-0.41608+0.17235j)|00010000000000000000> + (-0.41608+0.17235j)|00010000000001000000> + (-0.41608+0.17235j)|00010000100000000000> + (-0.41608+0.17235j)|00010000100001000000>\n",
      "Simulated SWAP test\n",
      "Measurement outcomes after 1024 shots:\n",
      "Frequencies (counts per bitstring): Counter({'0': 542, '1': 482})\n",
      "(-0.08541-0.2062j)|00000000000000000000> + (-0.45029+0.18652j)|00010000000000000000> + (-0.45029+0.18652j)|00010000000001000000> + (-0.45029+0.18652j)|00010000100000000000> + (-0.45029+0.18652j)|00010000100001000000>\n",
      "Simulated SWAP test\n",
      "Measurement outcomes after 1024 shots:\n",
      "Frequencies (counts per bitstring): Counter({'1': 520, '0': 504})\n",
      "(-0.0003-0.00074j)|00000000000000000000> + (-0.46194+0.19134j)|00010000000000000000> + (-0.46194+0.19134j)|00010000000001000000> + (-0.46194+0.19134j)|00010000100000000000> + (-0.46194+0.19134j)|00010000100001000000>\n"
     ]
    }
   ],
   "source": [
    "collected_results2 = []\n",
    "for s in np.linspace(0,3.14,8):\n",
    "    collected_results2.append(swap_test_run(s))"
   ]
  },
  {
   "cell_type": "code",
   "execution_count": 72,
   "id": "79c1ba08",
   "metadata": {},
   "outputs": [],
   "source": [
    "fidelities_CPU = [(collected_results2[i]['results_theory'].frequencies()['0']/collected_results[i]['n_shots']-1/2)*2 for i in range(8)]\n",
    "angles2 =[collected_results2[i]['initial_angle'] for i in range(8)]"
   ]
  },
  {
   "cell_type": "code",
   "execution_count": 73,
   "id": "93f05209",
   "metadata": {},
   "outputs": [
    {
     "data": {
      "text/plain": [
       "<matplotlib.legend.Legend at 0x799f242c1820>"
      ]
     },
     "execution_count": 73,
     "metadata": {},
     "output_type": "execute_result"
    },
    {
     "data": {
      "image/png": "[encoded data removed]",
      "text/plain": [
       "<Figure size 640x480 with 1 Axes>"
      ]
     },
     "metadata": {},
     "output_type": "display_data"
    }
   ],
   "source": [
    "import matplotlib.pyplot as plt\n",
    "plt.plot(angles, fidelities_QPU, 'x', label='QPU')\n",
    "plt.plot(angles2, fidelities_CPU, 'o', label = 'CPU')\n",
    "plt.xlabel('Angle')\n",
    "plt.ylabel('fidelity')\n",
    "plt.legend()"
   ]
  },
  {
   "cell_type": "code",
   "execution_count": null,
   "id": "4e24dc21",
   "metadata": {},
   "outputs": [],
   "source": []
  }
 ],
 "metadata": {
  "kernelspec": {
   "display_name": "Python 3 (ipykernel)",
   "language": "python",
   "name": "python3"
  },
  "language_info": {
   "codemirror_mode": {
    "name": "ipython",
    "version": 3
   },
   "file_extension": ".py",
   "mimetype": "text/x-python",
   "name": "python",
   "nbconvert_exporter": "python",
   "pygments_lexer": "ipython3",
   "version": "3.12.3"
  }
 },
 "nbformat": 4,
 "nbformat_minor": 5
}
